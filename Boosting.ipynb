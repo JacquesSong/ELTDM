{
 "cells": [
  {
   "cell_type": "markdown",
   "metadata": {},
   "source": [
    "# Parallelisation d'un algorithme de boosting\n",
    "\n",
    "Jacques Song et Tristan Loisel, rendu le 03/02/2020 \n",
    "\n",
    "Eléments logiciels pour traitement de données massives"
   ]
  },
  {
   "cell_type": "markdown",
   "metadata": {},
   "source": [
    "Dans ce notebook, nous présentons un algorithme de boosting, codé en `python`, que nous parallelisons à l'aide du package `ray`."
   ]
  },
  {
   "cell_type": "markdown",
   "metadata": {},
   "source": [
    "## Import des packages nécessaires"
   ]
  },
  {
   "cell_type": "code",
   "execution_count": 1,
   "metadata": {},
   "outputs": [],
   "source": [
    "import ray\n",
    "import time\n",
    "import numpy as np\n",
    "import sklearn as sk\n",
    "from sklearn import tree\n",
    "from sklearn.linear_model import RidgeClassifier\n",
    "from sklearn.utils import shuffle\n",
    "from sklearn.datasets import fetch_openml\n",
    "from sklearn.model_selection import train_test_split\n",
    "from sklearn.metrics import classification_report\n",
    "import matplotlib.pyplot as plt"
   ]
  },
  {
   "cell_type": "markdown",
   "metadata": {},
   "source": [
    "## Construction des sets d'entraînement et de test"
   ]
  },
  {
   "cell_type": "markdown",
   "metadata": {},
   "source": [
    "Nous avons choisi ici de travailler avec les données \"mnist_784\", qui contiennent des chiffres manuscrits."
   ]
  },
  {
   "cell_type": "code",
   "execution_count": 2,
   "metadata": {},
   "outputs": [],
   "source": [
    "X, y = fetch_openml(name=\"mnist_784\", return_X_y=True)\n",
    "X_train, X_test, y_train, y_test = train_test_split(X, y, train_size=100, random_state=0)"
   ]
  },
  {
   "cell_type": "code",
   "execution_count": 3,
   "metadata": {},
   "outputs": [
    {
     "name": "stdout",
     "output_type": "stream",
     "text": [
      "9\n"
     ]
    },
    {
     "data": {
      "image/png": "[encoded data removed]",
      "text/plain": [
       "<Figure size 432x288 with 1 Axes>"
      ]
     },
     "metadata": {
      "needs_background": "light"
     },
     "output_type": "display_data"
    }
   ],
   "source": [
    "plt.imshow(np.reshape(X_train[0], (28, 28)))\n",
    "print(y_train[0])"
   ]
  },
  {
   "cell_type": "markdown",
   "metadata": {},
   "source": [
    "## L'algorithme:\n",
    "\n",
    "L'algorithme que nous implémentons est le suivant, il a été présenté par Aleksandar LAZAREVIC et Zoran OBRADOVIC dans *Boosting Algorithms for Parallel and Distributed Learning, Distributed and Parallel Databases, 11, 203–229, 2002*.\n"
   ]
  },
  {
   "cell_type": "markdown",
   "metadata": {},
   "source": [
    " Entrée: un set de données labellisées $S = \\{(X_i,Y_i)\\}_{i \\in \\{1,...,n\\}}$, avec pour chaque $i$, $y_i \\in \\{0,...,9\\}$\n",
    "\n",
    "Initialisation: création \n",
    "\n",
    "&nbsp;&nbsp;&nbsp;-d'un ensemble $B=\\{(i,y), i \\in \\{1,...,n\\}, y_i \\neq y\\}$\n",
    "\n",
    "&nbsp;&nbsp;&nbsp;-d'une densité de probabilité sur S, $\\mu_1$, telle que $\\mu_1(i)=\\frac{1}{n}$ pour chaque $i \\in \\{1,...,n\\}$.\n",
    "\n",
    "Pour chaque $t \\in \\{1,...,T\\}$:\n",
    "\n",
    "&nbsp;&nbsp;&nbsp;Pour chaque processeur $j \\{1,...,J\\}$:\n",
    "\n",
    "&nbsp;&nbsp;&nbsp;&nbsp;&nbsp;&nbsp;-Tirer un échantillon à partir de la densité $\\mu_t$\n",
    "        \n",
    "&nbsp;&nbsp;&nbsp;&nbsp;&nbsp;&nbsp;-Entraîner un prédicteur $P_{t,j}$ en utilisant le processeur $j$\n",
    "        \n",
    "&nbsp;&nbsp;&nbsp;&nbsp;&nbsp;&nbsp;-Calculer sa prédiction $h_{t,j}$ de ce prédicteur\n",
    " \n",
    "Créer le prédicteur $h_t$ tel que: $h_t(i) = max\\{h_{t,j}(i), j \\in \\{1,...,J\\}$\n",
    "\n",
    "Calculer la perte de $h_t$: $L_t = \\frac{1}{2} \\sum_{(i,y) \\in B} \\mu_t (i,y) (1-h_t (x_i, y_i)+h_t (x_i,y))$\n",
    "\n",
    "Calculer $\\mu_{t+1}(i,y) = \\frac{\\mu_{t}(i,y)}{C_t} \\beta_t^{w_{t,i}}$ où $\\beta_t = \\frac{L_t}{1 - L_t}$, $w_{t,i} =  \\frac{1}{2}(1-h_t (x_i, y)+h_t (x_i,y_i))$ et $C_t$ est une constante de normalisation.\n",
    "\n",
    "Retourner $h = argmax_{y \\in \\{0,...,9\\}} \\sum_{t \\in \\{1,...,T\\}} log(\\frac{1}{\\beta_t})h_t(.,y)$\n",
    "\n"
   ]
  },
  {
   "cell_type": "markdown",
   "metadata": {},
   "source": [
    "## Définition de quelques fonctions utiles"
   ]
  },
  {
   "cell_type": "code",
   "execution_count": 4,
   "metadata": {},
   "outputs": [],
   "source": [
    "def resample(probs, sample_size, nbr_samples):\n",
    "    counts_array = np.random.multinomial(sample_size, probs, size=nbr_samples)\n",
    "    samples = []\n",
    "    labels = []\n",
    "    for counts in counts_array:\n",
    "        samples.append(sample(counts, X_train))\n",
    "        labels.append(sample(counts, y_train))\n",
    "    return samples, labels\n",
    "\n",
    "def sample(counts, data):\n",
    "    sample = []\n",
    "    for index, count in enumerate(counts):\n",
    "        for _ in range(count):\n",
    "            sample.append(data[index])\n",
    "    return np.array(sample)\n",
    "\n",
    "@ray.remote\n",
    "def train_weak_learner(model, X_train, y_train):\n",
    "    model.fit(X_train, y_train)\n",
    "    return model\n",
    "\n",
    "@ray.remote\n",
    "def make_hypothesis(model):\n",
    "    def fun(X, y):\n",
    "        return int(model.predict([X])==y)\n",
    "    return fun\n",
    "\n",
    "def merge_hypothesis(hypotheses):\n",
    "    def fun(X, y):\n",
    "        return max([hypotheses[k](X, y) for k in range(P)])\n",
    "    return fun"
   ]
  },
  {
   "cell_type": "markdown",
   "metadata": {},
   "source": [
    "## Définition des paramètres"
   ]
  },
  {
   "cell_type": "code",
   "execution_count": 5,
   "metadata": {},
   "outputs": [],
   "source": [
    "N = np.shape(X_train)[0]\n",
    "T = 1\n",
    "P = 10\n",
    "\n",
    "classes = ['0', '1', '2', '3', '4', '5', '6', '7', '8', '9']"
   ]
  },
  {
   "cell_type": "markdown",
   "metadata": {},
   "source": [
    "## Implémentation de l'algorithme"
   ]
  },
  {
   "cell_type": "code",
   "execution_count": 6,
   "metadata": {
    "scrolled": false
   },
   "outputs": [
    {
     "name": "stderr",
     "output_type": "stream",
     "text": [
      "2020-02-02 20:06:35,723\tINFO resource_spec.py:212 -- Starting Ray with 3.66 GiB memory available for workers and up to 1.84 GiB for objects. You can adjust these settings with ray.init(memory=<bytes>, object_store_memory=<bytes>).\n",
      "2020-02-02 20:06:36,108\tINFO services.py:1093 -- View the Ray dashboard at \u001b[1m\u001b[32mlocalhost:8265\u001b[39m\u001b[22m\n"
     ]
    },
    {
     "data": {
      "text/plain": [
       "{'node_ip_address': '192.168.1.31',\n",
       " 'redis_address': '192.168.1.31:30824',\n",
       " 'object_store_address': '/tmp/ray/session_2020-02-02_20-06-35_707227_84392/sockets/plasma_store',\n",
       " 'raylet_socket_name': '/tmp/ray/session_2020-02-02_20-06-35_707227_84392/sockets/raylet',\n",
       " 'webui_url': 'localhost:8265',\n",
       " 'session_dir': '/tmp/ray/session_2020-02-02_20-06-35_707227_84392'}"
      ]
     },
     "execution_count": 6,
     "metadata": {},
     "output_type": "execute_result"
    }
   ],
   "source": [
    "ray.init(num_cpus=P)"
   ]
  },
  {
   "cell_type": "markdown",
   "metadata": {},
   "source": [
    "Initialize boosting weights"
   ]
  },
  {
   "cell_type": "code",
   "execution_count": 7,
   "metadata": {},
   "outputs": [],
   "source": [
    "D = []\n",
    "D.append(np.ones(shape=(N,), dtype=np.float32)/N)"
   ]
  },
  {
   "cell_type": "code",
   "execution_count": 8,
   "metadata": {},
   "outputs": [],
   "source": [
    "X_samples, y_samples = resample(D[-1], sample_size=N, nbr_samples=P)"
   ]
  },
  {
   "cell_type": "code",
   "execution_count": 9,
   "metadata": {},
   "outputs": [],
   "source": [
    "B_X = []\n",
    "B_y = []\n",
    "for X, y in zip(X_train, y_train):\n",
    "    for char in classes:\n",
    "        if char != y:\n",
    "            B_X.append(X)\n",
    "            B_y.append(char)"
   ]
  },
  {
   "cell_type": "code",
   "execution_count": 10,
   "metadata": {},
   "outputs": [],
   "source": [
    "def loss(hypothesis, D):\n",
    "    epsilon = 0\n",
    "    for i in range(9*N):\n",
    "        epsilon += D[i//9]*(1 - hypothesis(X_train[i//9], y_train[i//9]) + hypothesis(X_train[i//9], B_y[i]))\n",
    "    return .5 * epsilon"
   ]
  },
  {
   "cell_type": "markdown",
   "metadata": {},
   "source": [
    "Heart of the training"
   ]
  },
  {
   "cell_type": "code",
   "execution_count": 11,
   "metadata": {},
   "outputs": [],
   "source": [
    "learners_list = []\n",
    "for t in range(T):\n",
    "    fitted_models_id = []\n",
    "    hypotheses_id = []\n",
    "    weak_learners = [tree.DecisionTreeClassifier() for k in range(P)]\n",
    "    for k in range(P):\n",
    "        model_id = train_weak_learner.remote(weak_learners[k], X_samples[k], y_samples[k])\n",
    "        fitted_models_id.append(model_id)\n",
    "        hypotheses_id.append(make_hypothesis.remote(model_id))\n",
    "    fitted_models = ray.get(fitted_models_id)\n",
    "    hypotheses_list = ray.get(hypotheses_id)\n",
    "    hypothesis = merge_hypothesis(hypotheses_list)\n",
    "    learners_list.append(hypothesis)"
   ]
  },
  {
   "cell_type": "code",
   "execution_count": 12,
   "metadata": {},
   "outputs": [
    {
     "data": {
      "text/plain": [
       "0.8799999803304672"
      ]
     },
     "execution_count": 12,
     "metadata": {},
     "output_type": "execute_result"
    }
   ],
   "source": [
    "loss0 = loss(hypothesis, D[-1])\n",
    "\n",
    "loss0"
   ]
  },
  {
   "cell_type": "code",
   "execution_count": 13,
   "metadata": {},
   "outputs": [
    {
     "name": "stdout",
     "output_type": "stream",
     "text": [
      "              precision    recall  f1-score   support\n",
      "\n",
      "           0       0.36      0.30      0.33        91\n",
      "           1       0.53      0.69      0.60        96\n",
      "           2       0.27      0.31      0.29        91\n",
      "           3       0.34      0.39      0.37       103\n",
      "           4       0.43      0.53      0.47        97\n",
      "           5       0.11      0.10      0.10        84\n",
      "           6       0.38      0.22      0.28       106\n",
      "           7       0.41      0.45      0.43       116\n",
      "           8       0.19      0.20      0.20       123\n",
      "           9       0.35      0.26      0.30        93\n",
      "\n",
      "    accuracy                           0.34      1000\n",
      "   macro avg       0.34      0.34      0.34      1000\n",
      "weighted avg       0.34      0.34      0.34      1000\n",
      "\n"
     ]
    }
   ],
   "source": [
    "res = fitted_models[0].predict(X_test[:1000])\n",
    "print(classification_report(y_test[:1000], res))"
   ]
  },
  {
   "cell_type": "code",
   "execution_count": 14,
   "metadata": {
    "scrolled": true
   },
   "outputs": [],
   "source": [
    "count = 0\n",
    "for X, y in zip(X_test[:100], y_test[:100]):\n",
    "    count += hypothesis(X, y)"
   ]
  }
 ],
 "metadata": {
  "kernelspec": {
   "display_name": "Python 3",
   "language": "python",
   "name": "python3"
  },
  "language_info": {
   "codemirror_mode": {
    "name": "ipython",
    "version": 3
   },
   "file_extension": ".py",
   "mimetype": "text/x-python",
   "name": "python",
   "nbconvert_exporter": "python",
   "pygments_lexer": "ipython3",
   "version": "3.7.3"
  }
 },
 "nbformat": 4,
 "nbformat_minor": 2
}
