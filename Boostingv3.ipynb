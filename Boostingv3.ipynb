{
 "cells": [
  {
   "cell_type": "markdown",
   "metadata": {},
   "source": [
    "# Parallélisation d'un algorithme de boosting\n",
    "\n",
    "Jacques Song et Tristan Loisel, rendu le 03/02/2020 \n",
    "\n",
    "Eléments logiciels pour traitement de données massives"
   ]
  },
  {
   "cell_type": "markdown",
   "metadata": {},
   "source": [
    "Dans ce notebook, nous présentons un algorithme de boosting, codé en `python`, que nous parallélisons à l'aide du package `ray`."
   ]
  },
  {
   "cell_type": "markdown",
   "metadata": {},
   "source": [
    "## L'algorithme:\n",
    "\n",
    "L'algorithme que nous implémentons est le suivant, il est largement inspiré par celui présenté par Aleksandar LAZAREVIC et Zoran OBRADOVIC dans *Boosting Algorithms for Parallel and Distributed Learning, Distributed and Parallel Databases, 11, 203–229, 2002*.\n"
   ]
  },
  {
   "cell_type": "markdown",
   "metadata": {},
   "source": [
    " Entrée: un set de données labellisées $S = \\{(X_i,Y_i)\\}_{i \\in \\{1,...,n\\}}$, avec pour chaque $i$, $y_i \\in \\{0,...,9\\}$\n",
    "\n",
    "Initialisation: création d'une densité de probabilité sur S, $\\mu_1$, telle que $\\mu_1(i)=\\frac{1}{n}$ pour chaque $i \\in \\{1,...,n\\}$.\n",
    "\n",
    "Pour chaque $t \\in \\{1,...,T\\}$:\n",
    "\n",
    "&nbsp;&nbsp;&nbsp;Pour chaque processeur $j \\in \\{1,...,J\\}$:\n",
    "\n",
    "&nbsp;&nbsp;&nbsp;&nbsp;&nbsp;&nbsp;- Tirer un échantillon à partir de la densité $\\mu_t$\n",
    "        \n",
    "&nbsp;&nbsp;&nbsp;&nbsp;&nbsp;&nbsp;- Entraîner un classifieur $P_{t,j}$ en utilisant le processeur $j$\n",
    "        \n",
    "&nbsp;&nbsp;&nbsp;&nbsp;&nbsp;&nbsp;- Calculer une hypothèse $h_{t,j}$ de ce classifieur.\n",
    " \n",
    "Créer l'hypothèse $h_t$ tel que: $h_t(i) = max\\{h_{t,j}(i), j \\in \\{1,...,J\\}\\}$ associée au classifieur $P_{t}$\n",
    "\n",
    "Calculer la perte de $P_t$: $\\epsilon_t = \\sum_{i = 1}^{n} \\mu_t(i) (1 - h_t(x_i, y_i))$. C'est la moyenne pondérée par $\\mu_t$ de $\\mathbb{1}_{P_{t}(x_i) \\neq y_i}$.\n",
    "\n",
    "Calculer le confiance dans le classifieur $P_t$: $\\beta_t = \\frac{1}{2}\\log\\big(\\frac{1 - \\epsilon}{\\epsilon} \\big)$\n",
    "\n",
    "Calculer $\\mu_{t+1}(i) = \\frac{\\mu_{t}(i)}{C_t} e^{- \\beta_t h_t(x_i, y_i)}$ où $C_t$ est une constante de normalisation.\n",
    "\n",
    "Retourner $h = \\text{argmax}_{y \\in \\{0,...,9\\}} \\sum_{t \\in \\{1,...,T\\}} \\beta_t h_t(.,y)$\n",
    "\n"
   ]
  },
  {
   "cell_type": "markdown",
   "metadata": {},
   "source": [
    "L'algorithme implémenté diffère de celui du papier cité plus haut dans le calcul de la loss et la façon dont les poids sont mis à jour. En effet, nous avons repris le calcul d'AdaBoost pour la mise à jour des poids des données d'entraînement."
   ]
  },
  {
   "cell_type": "markdown",
   "metadata": {},
   "source": [
    "## Import des packages nécessaires"
   ]
  },
  {
   "cell_type": "code",
   "execution_count": 2,
   "metadata": {},
   "outputs": [],
   "source": [
    "import ray\n",
    "import time\n",
    "import numpy as np\n",
    "import sklearn as sk\n",
    "import matplotlib.pyplot as plt\n",
    "import seaborn as sns\n",
    "import tqdm\n",
    "from sklearn import tree\n",
    "from sklearn.datasets import fetch_openml\n",
    "from sklearn.model_selection import train_test_split\n",
    "from sklearn.metrics import classification_report, accuracy_score"
   ]
  },
  {
   "cell_type": "markdown",
   "metadata": {},
   "source": [
    "## Construction des sets d'entraînement et de test"
   ]
  },
  {
   "cell_type": "markdown",
   "metadata": {},
   "source": [
    "Nous avons choisi ici de travailler avec les données \"mnist_784\", qui contiennent des chiffres manuscrits. Nous nous limitons à un nombre restreint de données d'entraînement pour montrer l'efficacité des méthodes de boosting. En effet, ces dernières mettent l'accent sur les exemples mal classifiés à chaque itération, ainsi un faible nombre de données leur suffit (le dataset est artificiellement enrichi par le resampling à chaque itération)."
   ]
  },
  {
   "cell_type": "code",
   "execution_count": 3,
   "metadata": {},
   "outputs": [],
   "source": [
    "X, y = fetch_openml(name=\"mnist_784\", return_X_y=True)\n",
    "X_train, X_test, y_train, y_test = train_test_split(X, y, train_size=1000, random_state=0)"
   ]
  },
  {
   "cell_type": "markdown",
   "metadata": {},
   "source": [
    "Nous montrons un échantillon du set d'entrainement"
   ]
  },
  {
   "cell_type": "code",
   "execution_count": 4,
   "metadata": {},
   "outputs": [
    {
     "name": "stdout",
     "output_type": "stream",
     "text": [
      "3\n"
     ]
    },
    {
     "data": {
      "image/png": "[encoded data removed]",
      "text/plain": [
       "<Figure size 432x288 with 1 Axes>"
      ]
     },
     "metadata": {
      "needs_background": "light"
     },
     "output_type": "display_data"
    }
   ],
   "source": [
    "plt.imshow(np.reshape(X_train[0], (28, 28)))\n",
    "print(y_train[0])"
   ]
  },
  {
   "cell_type": "markdown",
   "metadata": {},
   "source": [
    "## Définition de quelques fonctions utiles"
   ]
  },
  {
   "cell_type": "code",
   "execution_count": 11,
   "metadata": {},
   "outputs": [],
   "source": [
    "@ray.remote\n",
    "def resample(probs, sample_size):\n",
    "    \"\"\"\n",
    "    Performs resampling on the training set according to a probability distribution probs remotely using ray. \n",
    "    The resulting sample has size sample_size.\n",
    "    \"\"\"\n",
    "    counts = np.random.multinomial(sample_size, probs)\n",
    "    samples = []\n",
    "    labels = []\n",
    "    samples.append(sample(counts, X_train))\n",
    "    labels.append(sample(counts, y_train))\n",
    "    return samples, labels\n",
    "\n",
    "def sample(counts, data):\n",
    "    \"\"\"\n",
    "    Private function for helping the resample function.\n",
    "    \"\"\"\n",
    "    sample = []\n",
    "    for index, count in enumerate(counts):\n",
    "        for _ in range(count):\n",
    "            sample.append(data[index])\n",
    "    return np.array(sample)\n",
    "\n",
    "@ray.remote\n",
    "def train_weak_learner(model, X_train, y_train):\n",
    "    \"\"\"\n",
    "    Decorator to do the training on a remote node using ray.\n",
    "    \"\"\"\n",
    "    model.fit(X_train, y_train)\n",
    "    return model\n",
    "\n",
    "@ray.remote\n",
    "def make_hypothesis(model):\n",
    "    \"\"\"\n",
    "    Decorator to generate a weak hypothesis. The hypothesis has confidence 1 in its prediction's class \n",
    "    and 0 in other classes\n",
    "    \"\"\"\n",
    "    def fun(X, y):\n",
    "        return int(model.predict([X])==y)\n",
    "    return fun\n",
    "\n",
    "def merge_hypothesis(hypotheses):\n",
    "    \"\"\"\n",
    "    Creates strong hypothesis by selecting the most confident hypothesis. \n",
    "    In this case, any hypothesis with value 1 is selected.\n",
    "    \"\"\"\n",
    "    def fun(X, y):\n",
    "        return max([hypotheses[k](X, y) for k in range(P)])\n",
    "    return fun\n",
    "\n",
    "def make_final_classifier(hypothesis_list, betas_list):\n",
    "    \"\"\"\n",
    "    Creates final classifier which selects the class with the highest confidence according to all strong hypotheses\n",
    "    weighted by the confidence in each iteration.\n",
    "    \"\"\"\n",
    "    def fun(X):\n",
    "        temp_classes_score = []\n",
    "        for y in classes:\n",
    "            temp_it_score = []\n",
    "            for t in range(T):\n",
    "                temp_it_score.append(betas_list[t] * hypothesis_list[t](X, y))\n",
    "            temp_classes_score.append(sum(temp_it_score))\n",
    "        return str(np.argmax(temp_classes_score))\n",
    "    return fun\n",
    "\n",
    "def update_weights(D, beta, hypothesis):\n",
    "    \"\"\"\n",
    "    Updates weights according to the performance of the strong hypothesis.\n",
    "    \"\"\"\n",
    "    res = np.empty(shape=(N,), dtype=np.float32)\n",
    "    index = 0\n",
    "    for X, y in zip(X_train, y_train):\n",
    "        res[index] = D[index] * np.exp(- beta * hypothesis(X, y))\n",
    "        index += 1\n",
    "    res = res / sum(res)\n",
    "    return res\n",
    "\n",
    "def error_pred_list(hypothesis):\n",
    "    \"\"\"\n",
    "    Private function for computing the ada_loss.\n",
    "    \"\"\"\n",
    "    res = []\n",
    "    for i in range(N):\n",
    "        res.append(1 - hypothesis(X_train[i], y_train[i]))\n",
    "    return np.array(res)[:, np.newaxis]\n",
    "\n",
    "def weighted_average(D, pred_list):\n",
    "    \"\"\"\n",
    "    Helper function for computing weighted average.\n",
    "    \"\"\"\n",
    "    return np.dot(D, pred_list)\n",
    "\n",
    "def ada_loss(hypothesis, D):\n",
    "    \"\"\"\n",
    "    Computes the AdaBoost loss of a given strong hypothesis weighted by a distribution D\n",
    "    \"\"\"\n",
    "    return weighted_average(D, error_pred_list(hypothesis))"
   ]
  },
  {
   "cell_type": "markdown",
   "metadata": {},
   "source": [
    "## Définition des paramètres"
   ]
  },
  {
   "cell_type": "code",
   "execution_count": 6,
   "metadata": {},
   "outputs": [],
   "source": [
    "N = np.shape(X_train)[0]  # number of training examples\n",
    "T = 10  # number of iterations\n",
    "P = 10  # number of processors\n",
    "depth = 4\n",
    "\n",
    "classes = ['0', '1', '2', '3', '4', '5', '6', '7', '8', '9']"
   ]
  },
  {
   "cell_type": "markdown",
   "metadata": {},
   "source": [
    "## Implémentation de l'algorithme"
   ]
  },
  {
   "cell_type": "markdown",
   "metadata": {},
   "source": [
    "Initialisation des différentes ressources."
   ]
  },
  {
   "cell_type": "code",
   "execution_count": 7,
   "metadata": {
    "scrolled": false
   },
   "outputs": [
    {
     "name": "stderr",
     "output_type": "stream",
     "text": [
      "2020-02-03 20:58:59,258\tWARNING worker.py:682 -- WARNING: Not updating worker name since `setproctitle` is not installed. Install this with `pip install setproctitle` (or ray[debug]) to enable monitoring of worker processes.\n",
      "2020-02-03 20:58:59,277\tINFO resource_spec.py:212 -- Starting Ray with 3.56 GiB memory available for workers and up to 1.79 GiB for objects. You can adjust these settings with ray.init(memory=<bytes>, object_store_memory=<bytes>).\n",
      "2020-02-03 20:58:59,536\tWARNING services.py:1080 -- Failed to start the dashboard. The dashboard requires Python 3 as well as 'pip install aiohttp psutil setproctitle grpcio'.\n"
     ]
    },
    {
     "data": {
      "text/plain": [
       "{'node_ip_address': '192.168.1.12',\n",
       " 'redis_address': '192.168.1.12:32078',\n",
       " 'object_store_address': '/tmp/ray/session_2020-02-03_20-58-59_263639_47461/sockets/plasma_store',\n",
       " 'raylet_socket_name': '/tmp/ray/session_2020-02-03_20-58-59_263639_47461/sockets/raylet',\n",
       " 'webui_url': None,\n",
       " 'session_dir': '/tmp/ray/session_2020-02-03_20-58-59_263639_47461'}"
      ]
     },
     "execution_count": 7,
     "metadata": {},
     "output_type": "execute_result"
    }
   ],
   "source": [
    "ray.init(num_cpus=P)"
   ]
  },
  {
   "cell_type": "markdown",
   "metadata": {},
   "source": [
    "Initialisation uniformes des poids du jeu de données d'entraînement."
   ]
  },
  {
   "cell_type": "code",
   "execution_count": 8,
   "metadata": {},
   "outputs": [],
   "source": [
    "D = []\n",
    "D.append(np.ones(shape=(N,), dtype=np.float32)/N)"
   ]
  },
  {
   "cell_type": "markdown",
   "metadata": {},
   "source": [
    "### Entraînement"
   ]
  },
  {
   "cell_type": "code",
   "execution_count": 12,
   "metadata": {
    "scrolled": false
   },
   "outputs": [
    {
     "name": "stderr",
     "output_type": "stream",
     "text": [
      "100%|██████████| 10/10 [00:14<00:00,  1.42s/it]\n"
     ]
    }
   ],
   "source": [
    "hypothesis_list = []\n",
    "betas_list = []\n",
    "for t in tqdm.trange(T):\n",
    "    data_samples_id = []\n",
    "    fitted_models_id = []  # list for storing the future fitted models\n",
    "    hypotheses_id = []  # list for storing the future weak hypotheses\n",
    "    weak_learners = [tree.DecisionTreeClassifier(max_depth=depth) for k in range(P)]  # list of weak learners\n",
    "    for k in range(P):  # parallel sampling\n",
    "        data_samples_id.append(resample.remote(D[-1], sample_size=N))\n",
    "    data_samples = [ray.get(data_id) for data_id in data_samples_id]  # fetching the samples\n",
    "    for k in range(P):\n",
    "        # parallelize training of weak learner k\n",
    "        model_id = train_weak_learner.remote(weak_learners[k], data_samples[k][0][0], data_samples[k][1][0])\n",
    "        # add future fitted model id\n",
    "        fitted_models_id.append(model_id)\n",
    "        # add future hypothesis is\n",
    "        hypotheses_id.append(make_hypothesis.remote(model_id))\n",
    "        \n",
    "    fitted_models = ray.get(fitted_models_id)  # get fitted weak learners\n",
    "    weak_hypotheses_list = ray.get(hypotheses_id)  # get weak hypotheses\n",
    "    hypothesis = merge_hypothesis(weak_hypotheses_list)  # compute strong hypothesis\n",
    "    hypothesis_list.append(hypothesis)  # store strong hypothesis\n",
    "    epsilon = ada_loss(hypothesis, D[-1])  # compute strong hypothesis loss\n",
    "    if epsilon == 0:  # if no error, add epsilon to avoid division by zero\n",
    "        print(\"No error\")\n",
    "        epsilon += 0.00001\n",
    "    betas_list.append(.5 * np.log((1 - epsilon) / epsilon))  # compute and store beta\n",
    "    D.append(update_weights(D[-1], betas_list[-1], hypothesis))  # update and store the new weights\n",
    "    \n",
    "final_classifier = make_final_classifier(hypothesis_list, betas_list)  # compute the final classifier"
   ]
  },
  {
   "cell_type": "markdown",
   "metadata": {},
   "source": [
    "## Résultats"
   ]
  },
  {
   "cell_type": "markdown",
   "metadata": {},
   "source": [
    "### Performances du classifieur final"
   ]
  },
  {
   "cell_type": "markdown",
   "metadata": {},
   "source": [
    "Regardons les performances du prédicteur final classe par classe. On commence par calculer les prédictions sur un échantillon du set de test."
   ]
  },
  {
   "cell_type": "code",
   "execution_count": 13,
   "metadata": {
    "scrolled": true
   },
   "outputs": [
    {
     "name": "stderr",
     "output_type": "stream",
     "text": [
      "100%|██████████| 100/100 [00:06<00:00, 16.75it/s]\n"
     ]
    }
   ],
   "source": [
    "res_final = []\n",
    "for k in tqdm.trange(100):\n",
    "    res_final.append(final_classifier(X_test[k]))\n",
    "res_final = np.array(res_final)"
   ]
  },
  {
   "cell_type": "markdown",
   "metadata": {},
   "source": [
    "On observe les prédictions par classe."
   ]
  },
  {
   "cell_type": "code",
   "execution_count": 14,
   "metadata": {
    "scrolled": false
   },
   "outputs": [
    {
     "name": "stdout",
     "output_type": "stream",
     "text": [
      "              precision    recall  f1-score   support\n",
      "\n",
      "           0       1.00      0.71      0.83        14\n",
      "           1       1.00      0.70      0.82        10\n",
      "           2       0.44      0.67      0.53         6\n",
      "           3       0.60      0.67      0.63         9\n",
      "           4       0.85      0.94      0.89        18\n",
      "           5       0.61      0.79      0.69        14\n",
      "           6       0.80      0.67      0.73         6\n",
      "           7       0.89      0.62      0.73        13\n",
      "           8       0.50      0.60      0.55         5\n",
      "           9       0.33      0.40      0.36         5\n",
      "\n",
      "    accuracy                           0.72       100\n",
      "   macro avg       0.70      0.68      0.68       100\n",
      "weighted avg       0.76      0.72      0.73       100\n",
      "\n"
     ]
    }
   ],
   "source": [
    "print(classification_report(y_test[:100], res_final))"
   ]
  },
  {
   "cell_type": "markdown",
   "metadata": {},
   "source": [
    "## Intérêt de l'algorithme de boosting\n",
    "\n",
    "Le boosting permet d'obtenir un classifieur performant, à partir d'un grand nombres de classifieurs élémentaires. Nous utilisons ici des arbres de décision de profondeur $4$, ce qui est une profondeur faible: un seul de ces arbres ne permet pas de prédir les labels avec précision. En revanche, le fait d'utiliser judicieusement plusieurs de ces arbres (ici en choisissant d'entraîner les nouveaux plus spécifiquement sur les données sur lesquelles les précédents ont échoué), permet d'obtenir un bon classifieur. \n",
    "\n",
    "Pour illustrer cette idée, nous avons calculé la précision du classifieur obtenu à partir des $t$ premiers arbres pour chaque $t \\in \\{1,...,T\\}$: $h^t = \\text{argmax}_{y \\in \\{0,...,9\\}} \\sum_{k \\in \\{1,...,t\\}} \\beta_k h_k(.,y)$\n",
    "\n",
    "Comme le calcul de tous ces classifieurs est long, nous avons stocké les résultats dans les variables `accuracies_P_1` et `accuracies_P_8` ci-dessous (le code qui a été utilisé pour produire ces listes est très proche de celui du paragraphe \"Entraînement\" ci-dessus). `accuracies_P_1` a été calculée avec un seul processeur (`P=1`), et `accuracies_P_8` avec $8$ processeurs (`P=8`, sur un ordinateur à $8$ coeurs)."
   ]
  },
  {
   "cell_type": "code",
   "execution_count": 15,
   "metadata": {},
   "outputs": [],
   "source": [
    "accuracies_P_1 = [0.1,0.53,0.53,0.6,0.65,0.672,0.688,0.71, 0.712, 0.716, 0.722, 0.722, 0.72, 0.722, 0.73, 0.734, 0.736, 0.752, 0.746, 0.744, 0.748, 0.742, 0.772, 0.772, 0.772,0.77, 0.77, 0.77, 0.772, 0.77]\n",
    "accuracies_P_8 = [0.1, 0.43, 0.628, 0.676,0.7,0.726, 0.738, 0.762, 0.764, 0.778, 0.788, 0.806,0.81, 0.812, 0.81, 0.812, 0.822, 0.814, 0.822, 0.834,0.828, 0.832, 0.832, 0.814, 0.818, 0.828, 0.836, 0.83, 0.83, 0.832]"
   ]
  },
  {
   "cell_type": "code",
   "execution_count": 16,
   "metadata": {},
   "outputs": [
    {
     "data": {
      "image/png": "[encoded data removed]",
      "text/plain": [
       "<Figure size 864x432 with 1 Axes>"
      ]
     },
     "metadata": {
      "needs_background": "light"
     },
     "output_type": "display_data"
    }
   ],
   "source": [
    "fig = plt.figure(1, figsize=(12, 6))\n",
    "plt.plot(accuracies_P_1,label=\"P=1\")\n",
    "plt.plot(accuracies_P_8,label=\"P=8\")\n",
    "plt.xlabel(\"Number of iterations\")\n",
    "plt.ylabel(\"Accuracy\")\n",
    "plt.legend()\n",
    "plt.show()"
   ]
  },
  {
   "cell_type": "markdown",
   "metadata": {},
   "source": [
    "Nous observons bien qu'après une itération (i.e un seul arbre est utilisé), la précision est très faible. En revanche, après une vingtaine d'itérations, celle-ci devient raisonnable. Le classifieur devient donc de plus en plus performant au fur et à mesure des itérations, jusqu'à atteindre une précision limite.\n",
    "\n",
    "On remarque également que l'utilisation de plusieurs processeurs en parallèle semble permettre d'atteindre une meilleure précision."
   ]
  },
  {
   "cell_type": "markdown",
   "metadata": {},
   "source": [
    "### Speed-up"
   ]
  },
  {
   "cell_type": "markdown",
   "metadata": {},
   "source": [
    "On démontre ici le speed-up obtenu par parallélisation. On crée artificiellement des programmes d'entraînement et on observe les durées de calcul pour un nombre équivalent d'arbres de décision entraînés."
   ]
  },
  {
   "cell_type": "code",
   "execution_count": 17,
   "metadata": {},
   "outputs": [],
   "source": [
    "def parallel_training(P):\n",
    "    weak_learners = [tree.DecisionTreeClassifier() for k in range(P)]\n",
    "    fitted_models_id = []\n",
    "    for k in range(P):\n",
    "        # parallelize training of weak learner k\n",
    "        model_id = train_weak_learner.remote(weak_learners[k], X_train, y_train)\n",
    "        # add future fitted model id\n",
    "        fitted_models_id.append(model_id)\n",
    "    fitted_models = ray.get(fitted_models_id)\n",
    "    return fitted_models\n",
    "\n",
    "def sequential_training(P):\n",
    "    weak_learners = [tree.DecisionTreeClassifier(max_depth=10) for k in range(P)]\n",
    "    fitted_models = []\n",
    "    for k in range(P):\n",
    "        fitted_models.append(weak_learners[k].fit(X_train, y_train))\n",
    "    return fitted_models"
   ]
  },
  {
   "cell_type": "code",
   "execution_count": 18,
   "metadata": {
    "scrolled": false
   },
   "outputs": [
    {
     "name": "stderr",
     "output_type": "stream",
     "text": [
      "100%|██████████| 19/19 [03:40<00:00, 19.51s/it]\n"
     ]
    }
   ],
   "source": [
    "parallel_times = []\n",
    "sequential_times = []\n",
    "\n",
    "K = 20\n",
    "\n",
    "for nbr_trees in tqdm.trange(1, K):\n",
    "    start = time.time()\n",
    "    parallel_fitted_models = parallel_training(10 * nbr_trees)\n",
    "    end = time.time()\n",
    "    parallel_times.append(end - start)\n",
    "\n",
    "    start = time.time()\n",
    "    sequential_fitted_models = sequential_training(10 * nbr_trees)\n",
    "    end = time.time()\n",
    "    sequential_times.append(end - start)\n"
   ]
  },
  {
   "cell_type": "markdown",
   "metadata": {},
   "source": [
    "On regarde les durées d'exécutions en fonction du nombre d'arbre."
   ]
  },
  {
   "cell_type": "code",
   "execution_count": 19,
   "metadata": {},
   "outputs": [
    {
     "data": {
      "text/plain": [
       "[]"
      ]
     },
     "execution_count": 19,
     "metadata": {},
     "output_type": "execute_result"
    },
    {
     "data": {
      "image/png": "[encoded data removed]",
      "text/plain": [
       "<Figure size 864x432 with 1 Axes>"
      ]
     },
     "metadata": {
      "needs_background": "light"
     },
     "output_type": "display_data"
    }
   ],
   "source": [
    "fig = plt.figure(1, figsize=(12, 6))\n",
    "plt.plot(10 * np.arange(1, K), parallel_times, label='parallel')\n",
    "plt.plot(10 * np.arange(1, K), sequential_times, label='sequential')\n",
    "plt.xlabel(\"Number of trees\")\n",
    "plt.ylabel(\"Duration in seconds\")\n",
    "plt.title(\"Duration against number of trees in sequential and parallel setting\")\n",
    "plt.legend()\n",
    "plt.plot()"
   ]
  },
  {
   "cell_type": "markdown",
   "metadata": {},
   "source": [
    "On observe une dépendance linéaire logique dans les deux cas. La pente dans le cas parallélisé est plus faible comme attendu. On peut s'intéresser au *speed-up* pour voir lévolution du gain de temps de la parallélisation."
   ]
  },
  {
   "cell_type": "code",
   "execution_count": 24,
   "metadata": {
    "scrolled": true
   },
   "outputs": [
    {
     "data": {
      "text/plain": [
       "[]"
      ]
     },
     "execution_count": 24,
     "metadata": {},
     "output_type": "execute_result"
    },
    {
     "data": {
      "image/png": "[encoded data removed]",
      "text/plain": [
       "<Figure size 864x360 with 1 Axes>"
      ]
     },
     "metadata": {
      "needs_background": "light"
     },
     "output_type": "display_data"
    }
   ],
   "source": [
    "fig = plt.figure(1, figsize=(12, 5))\n",
    "plt.plot(10 * np.arange(1, K), np.array(sequential_times) / np.array(parallel_times))\n",
    "plt.xlabel(\"Number of trees\")\n",
    "plt.ylabel(\"Speed-Up\")\n",
    "plt.plot()"
   ]
  },
  {
   "cell_type": "markdown",
   "metadata": {},
   "source": [
    "On observe un speed-up intéressant (aux alentours de 5 pour 10 CPUs sur un MacBook Pro 2018 avec un processeur aux specs suivantes : 2.2 GHz 6-Core Intel Core i7). Pour des méthodes ensemblistes, en particulier le boosting, la parallélisation permet un gain de temps important sur la phase d'entraînement des weak learners. Cela peut se révéler particulièrement intéressant pour des weak learners coûteux à entraîner comme des réseaux neuronaux. "
   ]
  }
 ],
 "metadata": {
  "kernelspec": {
   "display_name": "Python 3",
   "language": "python",
   "name": "python3"
  },
  "language_info": {
   "codemirror_mode": {
    "name": "ipython",
    "version": 3
   },
   "file_extension": ".py",
   "mimetype": "text/x-python",
   "name": "python",
   "nbconvert_exporter": "python",
   "pygments_lexer": "ipython3",
   "version": "3.7.3"
  }
 },
 "nbformat": 4,
 "nbformat_minor": 2
}
