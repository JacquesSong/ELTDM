{
 "cells": [
  {
   "cell_type": "code",
   "execution_count": 2,
   "metadata": {},
   "outputs": [],
   "source": [
    "from random import *\n",
    "import numpy as np"
   ]
  },
  {
   "cell_type": "code",
   "execution_count": 3,
   "metadata": {},
   "outputs": [],
   "source": [
    "def func(x,y): #la fonction qu'on va chercher à minimiser, stmt convexe donc facile à minimiser\n",
    "    return(x**2 + y**2)\n",
    "\n",
    "\n",
    "\n",
    "\n",
    "def recuit_simule(start,f=func,nb_steps=100000,T=0.1):\n",
    "    (x,y)=start\n",
    "    for i in range(nb_steps):\n",
    "        delta_x = 2*randint(0,1)-1 #saut de +1 ou -1 en x\n",
    "        delta_y = 2*randint(0,1)-1 #saut de +1 ou -1 en y\n",
    "        diff = f(x+delta_x, y+ delta_y) - f(x,y)\n",
    "        if diff > 0:\n",
    "            a = random()\n",
    "            if a < np.exp(-diff/T):\n",
    "                (x,y) = (x+delta_x, y+ delta_y)\n",
    "        else:\n",
    "            (x,y) = (x+delta_x, y+ delta_y)\n",
    "    \n",
    "    return(x,y)"
   ]
  },
  {
   "cell_type": "markdown",
   "metadata": {},
   "source": [
    "# Test du recuit sans parallelisation"
   ]
  },
  {
   "cell_type": "code",
   "execution_count": 4,
   "metadata": {},
   "outputs": [
    {
     "name": "stdout",
     "output_type": "stream",
     "text": [
      "0.4305541515350342\n"
     ]
    }
   ],
   "source": [
    "import time\n",
    "\n",
    "t0 = time.time()\n",
    "\n",
    "recuit_simule((-10,10))\n",
    "\n",
    "t1 = time.time()\n",
    "print(t1-t0)"
   ]
  },
  {
   "cell_type": "markdown",
   "metadata": {},
   "source": [
    "# Parallelisation avec multiprocessing"
   ]
  },
  {
   "cell_type": "code",
   "execution_count": 5,
   "metadata": {},
   "outputs": [
    {
     "name": "stdout",
     "output_type": "stream",
     "text": [
      "3.1343581676483154\n"
     ]
    }
   ],
   "source": [
    "import multiprocessing as mp\n",
    "\n",
    "#on lance plusieurs recuits en parallèle, initialisés à des endroits différents, dans l'idée de prendre ensuite le minimum des résultats\n",
    "\n",
    "#une autre parallelisation que l'on pourrait tester est de lancer plusieurs évaluations (en parrallele) de la fonction f à chaque étape\n",
    "#(par exemple si l'évaluation de f est coûteuse), et on ne retient que la valeur minimale\n",
    "\n",
    "starts= [(randint(-100,100), randint(-100,100)) for i in range(8)] #different points de départ\n",
    "\n",
    "pool = mp.Pool(mp.cpu_count())\n",
    "\n",
    "t0 = time.time()\n",
    "\n",
    "results = [pool.apply(recuit_simule, args=(start)) for start in zip(starts)]\n",
    "pool.close()    \n",
    "\n",
    "t1 = time.time()\n",
    "print(t1-t0)"
   ]
  },
  {
   "cell_type": "markdown",
   "metadata": {},
   "source": [
    "# Parallelisation avec threading"
   ]
  },
  {
   "cell_type": "code",
   "execution_count": 6,
   "metadata": {},
   "outputs": [
    {
     "name": "stdout",
     "output_type": "stream",
     "text": [
      "Thread numéro 2 terminé en 15.248472929000854s, résultat: (0,-1) \n",
      "\n",
      "Thread numéro 3 terminé en 15.272424936294556s, résultat: (-1,0) \n",
      "\n",
      "Thread numéro 1 terminé en 15.384188175201416s, résultat: (0,1) \n",
      "\n",
      "Thread numéro 0 terminé en 15.85901403427124s, résultat: (0,0) \n",
      "\n"
     ]
    }
   ],
   "source": [
    "import threading\n",
    "import time\n",
    "\n",
    "\n",
    "class MonThread (threading.Thread):\n",
    "    def __init__(self, start_point, num_thread, f=func,nb_steps=1000000,T=0.1):\n",
    "        threading.Thread.__init__(self)\n",
    "        self.start_point=start_point\n",
    "        self.f = f\n",
    "        self.nb_steps=nb_steps\n",
    "        self.T = T\n",
    "        self.num = num_thread\n",
    "\n",
    "    def run(self):\n",
    "        t0 = time.time()\n",
    "        (x,y)=self.start_point\n",
    "        for i in range(self.nb_steps):\n",
    "            delta_x = 2*randint(0,1)-1\n",
    "            delta_y = 2*randint(0,1)-1\n",
    "            diff = self.f(x+delta_x, y+ delta_y) - self.f(x,y)\n",
    "            if diff > 0:\n",
    "                a = random()\n",
    "                if a < np.exp(-diff/self.T):\n",
    "                    (x,y) = (x+delta_x, y+ delta_y)\n",
    "            else:\n",
    "                (x,y) = (x+delta_x, y+ delta_y)\n",
    "        t1 = time.time()\n",
    "        print(\"Thread numéro \" +str(int(self.num)) + \" terminé en \" + str(t1-t0) + \"s, résultat: (\" + str(x) + \",\" + str(y)+\") \\n\")\n",
    "        return(x,y)\n",
    "\n",
    "nb_threads = 4\n",
    "    \n",
    "starts= [(randint(-100,100), randint(-100,100)) for i in range(nb_threads)]\n",
    "\n",
    "threads = [MonThread(starts[i],i) for i in range(nb_threads)]\n",
    "threads[0].start()\n",
    "threads[1].start()\n",
    "threads[2].start()\n",
    "threads[3].start()"
   ]
  }
 ],
 "metadata": {
  "kernelspec": {
   "display_name": "Python 3",
   "language": "python",
   "name": "python3"
  },
  "language_info": {
   "codemirror_mode": {
    "name": "ipython",
    "version": 3
   },
   "file_extension": ".py",
   "mimetype": "text/x-python",
   "name": "python",
   "nbconvert_exporter": "python",
   "pygments_lexer": "ipython3",
   "version": "3.7.3"
  }
 },
 "nbformat": 4,
 "nbformat_minor": 2
}
