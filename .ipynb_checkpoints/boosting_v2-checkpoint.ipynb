{
 "cells": [
  {
   "cell_type": "code",
   "execution_count": 15,
   "metadata": {},
   "outputs": [],
   "source": [
    "import ray\n",
    "import time\n",
    "import numpy as np\n",
    "import sklearn as sk\n",
    "from sklearn import tree\n",
    "from sklearn.linear_model import RidgeClassifier\n",
    "from sklearn.utils import shuffle\n",
    "from sklearn.datasets import fetch_openml\n",
    "from sklearn.model_selection import train_test_split\n",
    "from sklearn.metrics import classification_report, accuracy_score\n",
    "import matplotlib.pyplot as plt\n",
    "import seaborn as sns\n",
    "import tqdm"
   ]
  },
  {
   "cell_type": "code",
   "execution_count": 2,
   "metadata": {},
   "outputs": [],
   "source": [
    "X, y = fetch_openml(name=\"mnist_784\", return_X_y=True)\n",
    "X_train, X_test, y_train, y_test = train_test_split(X, y, train_size=1000, random_state=0)"
   ]
  },
  {
   "cell_type": "code",
   "execution_count": 3,
   "metadata": {
    "scrolled": true
   },
   "outputs": [
    {
     "name": "stdout",
     "output_type": "stream",
     "text": [
      "3\n"
     ]
    },
    {
     "data": {
      "image/png": "[encoded data removed]",
      "text/plain": [
       "<Figure size 432x288 with 1 Axes>"
      ]
     },
     "metadata": {
      "needs_background": "light"
     },
     "output_type": "display_data"
    }
   ],
   "source": [
    "plt.imshow(np.reshape(X_train[0], (28, 28)))\n",
    "print(y_train[0])"
   ]
  },
  {
   "cell_type": "code",
   "execution_count": 4,
   "metadata": {},
   "outputs": [],
   "source": [
    "@ray.remote(num_return_vals=2)\n",
    "def resample(probs, sample_size):\n",
    "    counts = np.random.multinomial(sample_size, probs)\n",
    "    samples = []\n",
    "    labels = []\n",
    "    samples.append(sample(counts, X_train))\n",
    "    labels.append(sample(counts, y_train))\n",
    "    return samples, labels\n",
    "\n",
    "def sample(counts, data):\n",
    "    sample = []\n",
    "    for index, count in enumerate(counts):\n",
    "        for _ in range(count):\n",
    "            sample.append(data[index])\n",
    "    return np.array(sample)\n",
    "\n",
    "@ray.remote\n",
    "def train_weak_learner(model, X_train, y_train):\n",
    "    model.fit(X_train, y_train)\n",
    "    return model\n",
    "\n",
    "@ray.remote\n",
    "def make_hypothesis(model):\n",
    "    def fun(X, y):\n",
    "        return int(model.predict([X])==y)\n",
    "    return fun\n",
    "\n",
    "def merge_hypothesis(hypotheses):\n",
    "    def fun(X, y):\n",
    "        return max([hypotheses[k](X, y) for k in range(P)])\n",
    "    return fun\n",
    "\n",
    "# def final_hypothesis(learners_list, betas_list):\n",
    "#     def fun(X):\n",
    "#         return str(np.argmax(\n",
    "#             [sum([- np.log(betas_list[t]) * \n",
    "#                   learners_list[t](X, y)\n",
    "#                   for t in range(T)]) \n",
    "#              for y in classes]))\n",
    "#     return fun\n",
    "\n",
    "def make_final_classifier(hypothesis_list, betas_list):\n",
    "    def fun(X):\n",
    "        temp_classes_score = []\n",
    "        for y in classes:\n",
    "            temp_it_score = []\n",
    "            for t in range(T):\n",
    "                temp_it_score.append(betas_list[t] * hypothesis_list[t](X, y))\n",
    "            temp_classes_score.append(sum(temp_it_score))\n",
    "        return str(np.argmax(temp_classes_score))\n",
    "    return fun\n",
    "\n",
    "def update_weights(D, beta, hypothesis):\n",
    "    res = np.empty(shape=(N,), dtype=np.float32)\n",
    "    index = 0\n",
    "    for X, y in zip(X_train, y_train):\n",
    "        res[index] = D[index] * np.exp(- beta * hypothesis(X, y))\n",
    "        index += 1\n",
    "    res = res / sum(res)\n",
    "    return res"
   ]
  },
  {
   "cell_type": "markdown",
   "metadata": {},
   "source": [
    "Parameters"
   ]
  },
  {
   "cell_type": "code",
   "execution_count": 5,
   "metadata": {},
   "outputs": [],
   "source": [
    "N = np.shape(X_train)[0]\n",
    "T = 100\n",
    "P = 10\n",
    "\n",
    "classes = ['0', '1', '2', '3', '4', '5', '6', '7', '8', '9']"
   ]
  },
  {
   "cell_type": "code",
   "execution_count": 6,
   "metadata": {
    "scrolled": true
   },
   "outputs": [
    {
     "name": "stderr",
     "output_type": "stream",
     "text": [
      "2020-02-03 13:46:19,513\tINFO resource_spec.py:212 -- Starting Ray with 4.2 GiB memory available for workers and up to 2.12 GiB for objects. You can adjust these settings with ray.init(memory=<bytes>, object_store_memory=<bytes>).\n",
      "2020-02-03 13:46:19,926\tINFO services.py:1093 -- View the Ray dashboard at \u001b[1m\u001b[32mlocalhost:8265\u001b[39m\u001b[22m\n"
     ]
    },
    {
     "data": {
      "text/plain": [
       "{'node_ip_address': '192.168.1.31',\n",
       " 'redis_address': '192.168.1.31:58451',\n",
       " 'object_store_address': '/tmp/ray/session_2020-02-03_13-46-19_496737_85494/sockets/plasma_store',\n",
       " 'raylet_socket_name': '/tmp/ray/session_2020-02-03_13-46-19_496737_85494/sockets/raylet',\n",
       " 'webui_url': 'localhost:8265',\n",
       " 'session_dir': '/tmp/ray/session_2020-02-03_13-46-19_496737_85494'}"
      ]
     },
     "execution_count": 6,
     "metadata": {},
     "output_type": "execute_result"
    }
   ],
   "source": [
    "ray.init(num_cpus=P)"
   ]
  },
  {
   "cell_type": "markdown",
   "metadata": {},
   "source": [
    "Initialize boosting weights"
   ]
  },
  {
   "cell_type": "code",
   "execution_count": 7,
   "metadata": {},
   "outputs": [],
   "source": [
    "D = []\n",
    "D.append(np.ones(shape=(N,), dtype=np.float32)/N)"
   ]
  },
  {
   "cell_type": "code",
   "execution_count": 8,
   "metadata": {},
   "outputs": [],
   "source": [
    "B_X = []\n",
    "B_y = []\n",
    "for X, y in zip(X_train, y_train):\n",
    "    for char in classes:\n",
    "        if char != y:\n",
    "            B_X.append(X)\n",
    "            B_y.append(char)"
   ]
  },
  {
   "cell_type": "code",
   "execution_count": 9,
   "metadata": {},
   "outputs": [],
   "source": [
    "def loss(hypothesis, D):\n",
    "    epsilon = 0\n",
    "    for i in range(N):\n",
    "        neg = hypothesis(X_train[i], y_train[i])\n",
    "        coef = D[i]\n",
    "        for j in range(9):\n",
    "            epsilon += coef * (1 - neg + hypothesis(X_train[i], B_y[9*i + j]))\n",
    "    return .5 * epsilon"
   ]
  },
  {
   "cell_type": "code",
   "execution_count": 10,
   "metadata": {},
   "outputs": [],
   "source": [
    "def error_pred_list(hypothesis):\n",
    "    res = []\n",
    "    for i in range(N):\n",
    "        res.append(1 - hypothesis(X_train[i], y_train[i]))\n",
    "    return np.array(res)[:, np.newaxis]\n",
    "\n",
    "def weighted_average(D, pred_list):\n",
    "    return np.dot(D, pred_list)\n",
    "\n",
    "def ada_loss(hypothesis, D):\n",
    "    return weighted_average(D, error_pred_list(hypothesis))"
   ]
  },
  {
   "cell_type": "markdown",
   "metadata": {},
   "source": [
    "Heart of the training"
   ]
  },
  {
   "cell_type": "code",
   "execution_count": 16,
   "metadata": {
    "scrolled": false
   },
   "outputs": [
    {
     "name": "stderr",
     "output_type": "stream",
     "text": [
      "100%|██████████| 100/100 [02:52<00:00,  1.73s/it]\n"
     ]
    }
   ],
   "source": [
    "hypothesis_list = []\n",
    "betas_list = []\n",
    "for t in tqdm.trange(T):\n",
    "    data_samples_id = []\n",
    "    fitted_models_id = []  # list for storing the future fitted models\n",
    "    hypotheses_id = []  # list for storing the future weak hypotheses\n",
    "    weak_learners = [tree.DecisionTreeClassifier(max_depth=4) for k in range(P)]  # list of weak learners\n",
    "    for k in range(P):\n",
    "        data_samples_id.append(resample.remote(D[-1], sample_size=N))\n",
    "    data_samples = [ray.get(data_id) for data_id in data_samples_id]\n",
    "    for k in range(P):\n",
    "        # parallelize training of weak learner k\n",
    "        model_id = train_weak_learner.remote(weak_learners[k], data_samples[k][0][0], data_samples[k][1][0])\n",
    "        # add future fitted model id\n",
    "        fitted_models_id.append(model_id)\n",
    "        # add future hypothesis is\n",
    "        hypotheses_id.append(make_hypothesis.remote(model_id))\n",
    "        \n",
    "    fitted_models = ray.get(fitted_models_id)  # get fitted weak learners\n",
    "    weak_hypotheses_list = ray.get(hypotheses_id)  # get weak hypotheses\n",
    "    hypothesis = merge_hypothesis(weak_hypotheses_list)  # compute strong hypothesis\n",
    "    hypothesis_list.append(hypothesis)  # store strong hypothesis\n",
    "    epsilon = ada_loss(hypothesis, D[-1])  # compute strong hypothesis loss\n",
    "    if epsilon == 0:\n",
    "        print(\"No error\")\n",
    "        epsilon += 0.00001\n",
    "    betas_list.append(.5 * np.log((1 - epsilon) / epsilon))\n",
    "    D.append(update_weights(D[-1], betas_list[-1], hypothesis))\n",
    "    \n",
    "final_classifier = make_final_classifier(hypothesis_list, betas_list)"
   ]
  },
  {
   "cell_type": "code",
   "execution_count": 17,
   "metadata": {},
   "outputs": [
    {
     "name": "stderr",
     "output_type": "stream",
     "text": [
      "100%|██████████| 500/500 [06:24<00:00,  1.30it/s]\n"
     ]
    }
   ],
   "source": [
    "res_final = []\n",
    "for k in tqdm.trange(500):\n",
    "    res_final.append(final_classifier(X_test[k]))\n",
    "res_final = np.array(res_final)"
   ]
  },
  {
   "cell_type": "code",
   "execution_count": 58,
   "metadata": {
    "scrolled": true
   },
   "outputs": [
    {
     "name": "stdout",
     "output_type": "stream",
     "text": [
      "              precision    recall  f1-score   support\n",
      "\n",
      "           0       0.98      0.92      0.95        50\n",
      "           1       0.94      1.00      0.97        46\n",
      "           2       0.83      0.83      0.83        47\n",
      "           3       0.85      0.80      0.82        55\n",
      "           4       0.86      0.89      0.88        56\n",
      "           5       0.83      0.84      0.84        45\n",
      "           6       0.97      0.93      0.95        40\n",
      "           7       0.86      0.83      0.84        59\n",
      "           8       0.88      0.84      0.86        61\n",
      "           9       0.69      0.80      0.74        41\n",
      "\n",
      "    accuracy                           0.87       500\n",
      "   macro avg       0.87      0.87      0.87       500\n",
      "weighted avg       0.87      0.87      0.87       500\n",
      "\n"
     ]
    }
   ],
   "source": [
    "print(classification_report(y_test[:500], res_final))"
   ]
  },
  {
   "cell_type": "code",
   "execution_count": 54,
   "metadata": {},
   "outputs": [
    {
     "ename": "ValueError",
     "evalue": "Either both or neither of `x` and `y` must be specified (but try passing to `data`, which is more flexible).",
     "output_type": "error",
     "traceback": [
      "\u001b[0;31m---------------------------------------------------------------------------\u001b[0m",
      "\u001b[0;31mValueError\u001b[0m                                Traceback (most recent call last)",
      "\u001b[0;32m<ipython-input-54-8108b3bc78cd>\u001b[0m in \u001b[0;36m<module>\u001b[0;34m\u001b[0m\n\u001b[0;32m----> 1\u001b[0;31m \u001b[0msns\u001b[0m\u001b[0;34m.\u001b[0m\u001b[0mlineplot\u001b[0m\u001b[0;34m(\u001b[0m\u001b[0mD_it\u001b[0m\u001b[0;34m[\u001b[0m\u001b[0;36m0\u001b[0m\u001b[0;34m]\u001b[0m\u001b[0;34m)\u001b[0m\u001b[0;34m\u001b[0m\u001b[0;34m\u001b[0m\u001b[0m\n\u001b[0m",
      "\u001b[0;32m~/miniconda3/envs/cython/lib/python3.7/site-packages/seaborn/relational.py\u001b[0m in \u001b[0;36mlineplot\u001b[0;34m(x, y, hue, size, style, data, palette, hue_order, hue_norm, sizes, size_order, size_norm, dashes, markers, style_order, units, estimator, ci, n_boot, seed, sort, err_style, err_kws, legend, ax, **kwargs)\u001b[0m\n\u001b[1;32m   1129\u001b[0m         \u001b[0mdashes\u001b[0m\u001b[0;34m=\u001b[0m\u001b[0mdashes\u001b[0m\u001b[0;34m,\u001b[0m \u001b[0mmarkers\u001b[0m\u001b[0;34m=\u001b[0m\u001b[0mmarkers\u001b[0m\u001b[0;34m,\u001b[0m \u001b[0mstyle_order\u001b[0m\u001b[0;34m=\u001b[0m\u001b[0mstyle_order\u001b[0m\u001b[0;34m,\u001b[0m\u001b[0;34m\u001b[0m\u001b[0;34m\u001b[0m\u001b[0m\n\u001b[1;32m   1130\u001b[0m         \u001b[0munits\u001b[0m\u001b[0;34m=\u001b[0m\u001b[0munits\u001b[0m\u001b[0;34m,\u001b[0m \u001b[0mestimator\u001b[0m\u001b[0;34m=\u001b[0m\u001b[0mestimator\u001b[0m\u001b[0;34m,\u001b[0m \u001b[0mci\u001b[0m\u001b[0;34m=\u001b[0m\u001b[0mci\u001b[0m\u001b[0;34m,\u001b[0m \u001b[0mn_boot\u001b[0m\u001b[0;34m=\u001b[0m\u001b[0mn_boot\u001b[0m\u001b[0;34m,\u001b[0m \u001b[0mseed\u001b[0m\u001b[0;34m=\u001b[0m\u001b[0mseed\u001b[0m\u001b[0;34m,\u001b[0m\u001b[0;34m\u001b[0m\u001b[0;34m\u001b[0m\u001b[0m\n\u001b[0;32m-> 1131\u001b[0;31m         \u001b[0msort\u001b[0m\u001b[0;34m=\u001b[0m\u001b[0msort\u001b[0m\u001b[0;34m,\u001b[0m \u001b[0merr_style\u001b[0m\u001b[0;34m=\u001b[0m\u001b[0merr_style\u001b[0m\u001b[0;34m,\u001b[0m \u001b[0merr_kws\u001b[0m\u001b[0;34m=\u001b[0m\u001b[0merr_kws\u001b[0m\u001b[0;34m,\u001b[0m \u001b[0mlegend\u001b[0m\u001b[0;34m=\u001b[0m\u001b[0mlegend\u001b[0m\u001b[0;34m,\u001b[0m\u001b[0;34m\u001b[0m\u001b[0;34m\u001b[0m\u001b[0m\n\u001b[0m\u001b[1;32m   1132\u001b[0m     )\n\u001b[1;32m   1133\u001b[0m \u001b[0;34m\u001b[0m\u001b[0m\n",
      "\u001b[0;32m~/miniconda3/envs/cython/lib/python3.7/site-packages/seaborn/relational.py\u001b[0m in \u001b[0;36m__init__\u001b[0;34m(self, x, y, hue, size, style, data, palette, hue_order, hue_norm, sizes, size_order, size_norm, dashes, markers, style_order, units, estimator, ci, n_boot, seed, sort, err_style, err_kws, legend)\u001b[0m\n\u001b[1;32m    698\u001b[0m \u001b[0;34m\u001b[0m\u001b[0m\n\u001b[1;32m    699\u001b[0m         plot_data = self.establish_variables(\n\u001b[0;32m--> 700\u001b[0;31m             \u001b[0mx\u001b[0m\u001b[0;34m,\u001b[0m \u001b[0my\u001b[0m\u001b[0;34m,\u001b[0m \u001b[0mhue\u001b[0m\u001b[0;34m,\u001b[0m \u001b[0msize\u001b[0m\u001b[0;34m,\u001b[0m \u001b[0mstyle\u001b[0m\u001b[0;34m,\u001b[0m \u001b[0munits\u001b[0m\u001b[0;34m,\u001b[0m \u001b[0mdata\u001b[0m\u001b[0;34m\u001b[0m\u001b[0;34m\u001b[0m\u001b[0m\n\u001b[0m\u001b[1;32m    701\u001b[0m         )\n\u001b[1;32m    702\u001b[0m \u001b[0;34m\u001b[0m\u001b[0m\n",
      "\u001b[0;32m~/miniconda3/envs/cython/lib/python3.7/site-packages/seaborn/relational.py\u001b[0m in \u001b[0;36mestablish_variables\u001b[0;34m(self, x, y, hue, size, style, units, data)\u001b[0m\n\u001b[1;32m    164\u001b[0m             err = (\"Either both or neither of `x` and `y` must be specified \"\n\u001b[1;32m    165\u001b[0m                    \"(but try passing to `data`, which is more flexible).\")\n\u001b[0;32m--> 166\u001b[0;31m             \u001b[0;32mraise\u001b[0m \u001b[0mValueError\u001b[0m\u001b[0;34m(\u001b[0m\u001b[0merr\u001b[0m\u001b[0;34m)\u001b[0m\u001b[0;34m\u001b[0m\u001b[0;34m\u001b[0m\u001b[0m\n\u001b[0m\u001b[1;32m    167\u001b[0m \u001b[0;34m\u001b[0m\u001b[0m\n\u001b[1;32m    168\u001b[0m         \u001b[0;31m# ---- Post-processing\u001b[0m\u001b[0;34m\u001b[0m\u001b[0;34m\u001b[0m\u001b[0;34m\u001b[0m\u001b[0m\n",
      "\u001b[0;31mValueError\u001b[0m: Either both or neither of `x` and `y` must be specified (but try passing to `data`, which is more flexible)."
     ]
    }
   ],
   "source": [
    "def time_parallel(T):\n",
    "    \n",
    "\n",
    "def time_sequential(T)"
   ]
  }
 ],
 "metadata": {
  "kernelspec": {
   "display_name": "Cython",
   "language": "python",
   "name": "eltdm"
  },
  "language_info": {
   "codemirror_mode": {
    "name": "ipython",
    "version": 3
   },
   "file_extension": ".py",
   "mimetype": "text/x-python",
   "name": "python",
   "nbconvert_exporter": "python",
   "pygments_lexer": "ipython3",
   "version": "3.7.6"
  }
 },
 "nbformat": 4,
 "nbformat_minor": 2
}
